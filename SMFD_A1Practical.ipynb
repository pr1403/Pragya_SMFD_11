{
 "cells": [
  {
   "cell_type": "code",
   "execution_count": 6,
   "id": "c97ed747",
   "metadata": {},
   "outputs": [
    {
     "name": "stdout",
     "output_type": "stream",
     "text": [
      "[1, 0, 0, 0, 0]\n",
      "[1, 1, 0, 0, 0]\n",
      "[1, 2, 2, 0, 0]\n",
      "[1, 3, 5, 5, 0]\n",
      "[1, 4, 9, 14, 14]\n"
     ]
    }
   ],
   "source": [
    "mod=10**9 + 7\n",
    "def paths(n):\n",
    "    dp = [[0] * (n + 1) for _ in range(n + 1)]\n",
    "    dp[0][0] = 1\n",
    "\n",
    "    for x in range(n + 1):\n",
    "        for y in range(x + 1):\n",
    "            if x > 0:\n",
    "                dp[x][y] = (dp[x][y] + dp[x-1][y]) % mod\n",
    "            if y > 0:\n",
    "                dp[x][y] = (dp[x][y] + dp[x][y-1]) % mod\n",
    "    return dp\n",
    "\n",
    "grid=paths(4)\n",
    "for i in range(5):\n",
    "    # for j in range(4):\n",
    "    print(grid[i])\n",
    "grid=paths(100)"
   ]
  },
  {
   "cell_type": "code",
   "execution_count": 7,
   "id": "c1b8f91b",
   "metadata": {},
   "outputs": [
    {
     "data": {
      "text/plain": [
       "558488487"
      ]
     },
     "execution_count": 7,
     "metadata": {},
     "output_type": "execute_result"
    }
   ],
   "source": [
    "grid[100][100]"
   ]
  }
 ],
 "metadata": {
  "kernelspec": {
   "display_name": "Python 3",
   "language": "python",
   "name": "python3"
  },
  "language_info": {
   "codemirror_mode": {
    "name": "ipython",
    "version": 3
   },
   "file_extension": ".py",
   "mimetype": "text/x-python",
   "name": "python",
   "nbconvert_exporter": "python",
   "pygments_lexer": "ipython3",
   "version": "3.11.9"
  }
 },
 "nbformat": 4,
 "nbformat_minor": 5
}
