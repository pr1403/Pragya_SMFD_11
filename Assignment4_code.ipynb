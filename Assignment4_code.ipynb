{
  "nbformat": 4,
  "nbformat_minor": 0,
  "metadata": {
    "colab": {
      "provenance": []
    },
    "kernelspec": {
      "name": "python3",
      "display_name": "Python 3"
    },
    "language_info": {
      "name": "python"
    }
  },
  "cells": [
    {
      "cell_type": "markdown",
      "source": [
        "Q1 PART (a) and (b)"
      ],
      "metadata": {
        "id": "wgYumI_WWIUS"
      }
    },
    {
      "cell_type": "code",
      "execution_count": null,
      "metadata": {
        "colab": {
          "base_uri": "https://localhost:8080/"
        },
        "id": "JCSlNZYASw1o",
        "outputId": "03cf8f1f-5662-451a-93e7-d197b29760f6"
      },
      "outputs": [
        {
          "output_type": "stream",
          "name": "stdout",
          "text": [
            "   Trial Sigma  Trial Call Price\n",
            "0          0.1          3.725052\n",
            "1          0.3          4.762524\n",
            "2          0.5          6.251189\n",
            "Implied Volatility = 0.21345251542770804\n",
            "Put Price=0.931950139881403\n"
          ]
        }
      ],
      "source": [
        "import numpy as np\n",
        "import pandas as pd\n",
        "from scipy.stats import norm\n",
        "from scipy.optimize import brentq\n",
        "\n",
        "S = 38\n",
        "K = 35\n",
        "T = 4 / 12\n",
        "r = 0.06\n",
        "call_market_price = 4.20  # Observed call price\n",
        "\n",
        "# Black-Scholes formula for European Call\n",
        "def bs_call_price(S, K, T, r, sigma):\n",
        "    d1 = (np.log(S / K) + (r + 0.5 * sigma**2) * T) / (sigma * np.sqrt(T))\n",
        "    d2 = d1 - sigma * np.sqrt(T)\n",
        "    call = S * norm.cdf(d1) - K * np.exp(-r * T) * norm.cdf(d2)\n",
        "    return call\n",
        "\n",
        "# Trial and error\n",
        "trial_sigmas = [0.1, 0.3, 0.5]\n",
        "trial_call_prices = [bs_call_price(S, K, T, r, sigma) for sigma in trial_sigmas]\n",
        "\n",
        "# Implied volatility using Brent's method\n",
        "def objective_function(sigma):\n",
        "    return bs_call_price(S, K, T, r, sigma) - call_market_price\n",
        "\n",
        "implied_vol = brentq(objective_function, 0.01, 1.0)\n",
        "\n",
        "sigma_used = 0.28\n",
        "\n",
        "def bs_put_price(S, K, T, r, sigma):\n",
        "    d1 = (np.log(S / K) + (r + 0.5 * sigma**2) * T) / (sigma * np.sqrt(T))\n",
        "    d2 = d1 - sigma * np.sqrt(T)\n",
        "    put = K * np.exp(-r * T) * norm.cdf(-d2) - S * norm.cdf(-d1)\n",
        "    return put\n",
        "\n",
        "put_price = bs_put_price(S, K, T, r, sigma_used)\n",
        "df = pd.DataFrame({\n",
        "    'Trial Sigma': trial_sigmas,\n",
        "    'Trial Call Price': trial_call_prices\n",
        "})\n",
        "print(df)\n",
        "print(f'Implied Volatility = {implied_vol}')\n",
        "print(f'Put Price={put_price}')\n"
      ]
    },
    {
      "cell_type": "markdown",
      "source": [
        "Part (c) Yes, the firm should launch the product.\n",
        "Real options perspective\n",
        "\n",
        "* Underlying asset (S):* Expected revenue = \\$38M\n",
        "* Strike price (K): Launch cost = \\$35M\n",
        "* S > K → the option is in-the-money\n",
        "\n",
        "Since the revenue exceeds the cost, the option is in-the-money, meaning the firm would realize an immediate gain by launching. Given the option cannot be exercised before expiry (European style) and there are no interim cash flows or strategic benefits from waiting, the value of delay is minimal. Launching now captures the upside while limiting downside risk, making it the optimal choice.\n"
      ],
      "metadata": {
        "id": "661PhpXAWbXh"
      }
    },
    {
      "cell_type": "markdown",
      "source": [
        "Q2 Part B c)"
      ],
      "metadata": {
        "id": "XnGt8ly5cZT5"
      }
    },
    {
      "cell_type": "code",
      "source": [
        "import numpy as np\n",
        "from scipy.stats import lognorm\n",
        "from scipy.integrate import quad\n",
        "\n",
        "S0 = 100\n",
        "K = 105\n",
        "sigma_daily = np.sqrt(np.pi / 2)\n",
        "sigma_T = sigma_daily * np.sqrt(10)\n",
        "\n",
        "mu = 0\n",
        "scale = S0\n",
        "def integrand(S):\n",
        "    return (S - K) * lognorm.pdf(S, s=sigma_T, scale=scale)\n",
        "\n",
        "# Numerical integration\n",
        "expected_payoff, _ = quad(integrand, K, np.inf)\n",
        "print(f\"Expected payoff (fair value of the option): {expected_payoff:.4f}\")\n"
      ],
      "metadata": {
        "colab": {
          "base_uri": "https://localhost:8080/"
        },
        "id": "u0YoT4uqceGR",
        "outputId": "60f0f04a-4fc8-49ec-bc83-5a567f99303e"
      },
      "execution_count": null,
      "outputs": [
        {
          "output_type": "stream",
          "name": "stdout",
          "text": [
            "Expected payoff (fair value of the option): 18.0218\n"
          ]
        },
        {
          "output_type": "stream",
          "name": "stderr",
          "text": [
            "/tmp/ipython-input-7-829371241.py:16: IntegrationWarning: The integral is probably divergent, or slowly convergent.\n",
            "  expected_payoff, _ = quad(integrand, K, np.inf)\n"
          ]
        }
      ]
    },
    {
      "cell_type": "markdown",
      "source": [
        "| Model        | Daily Movement             | Shape of $S_T$ distribution                                     | Notes                                |\n",
        "| ------------ | -------------------------- | --------------------------------------------------------------- | ------------------------------------ |\n",
        "| Binomial| +1 or -1                   | Discrete (11 values)                                            | Symmetric, low variance              |\n",
        "| Normal   | $\\mathcal{N}(0, \\sigma^2)$ | Continuous, bell-shaped                                         | Gaussian, supports large deviations  |\n",
        "| Uniform | $\\mathcal{U}[-2, 2]$       | Sums of uniform → approx. *triangular* → normal (via CLT) | Slightly heavier tails than binomial |"
      ],
      "metadata": {
        "id": "hs0dQfBPettt"
      }
    },
    {
      "cell_type": "markdown",
      "source": [
        "Part C c)"
      ],
      "metadata": {
        "id": "9_6LiYoPdeuM"
      }
    },
    {
      "cell_type": "code",
      "source": [
        "import numpy as np\n",
        "\n",
        "S0 = 100\n",
        "K = 105\n",
        "T = 10\n",
        "n_simulations = 100000\n",
        "\n",
        "daily_moves = np.random.uniform(-2, 2, size=(n_simulations, T))\n",
        "ST = S0 + np.sum(daily_moves, axis=1)\n",
        "\n",
        "payoffs = np.maximum(ST - K, 0)\n",
        "\n",
        "fair_value = np.mean(payoffs)\n",
        "print(f\"Estimated fair value under uniform model: {fair_value:.4f}\")\n"
      ],
      "metadata": {
        "id": "KNxLBwkvdhoQ",
        "outputId": "25552d59-0a64-47ac-e159-f6b702598bd0",
        "colab": {
          "base_uri": "https://localhost:8080/"
        }
      },
      "execution_count": null,
      "outputs": [
        {
          "output_type": "stream",
          "name": "stdout",
          "text": [
            "Estimated fair value under uniform model: 0.1414\n"
          ]
        }
      ]
    },
    {
      "cell_type": "markdown",
      "source": [
        "Q3"
      ],
      "metadata": {
        "id": "GSwNM7yPYVdj"
      }
    },
    {
      "cell_type": "code",
      "source": [
        "import numpy as np\n",
        "import matplotlib.pyplot as plt\n",
        "\n",
        "N = 10000\n",
        "d = 1.0\n",
        "l = 0.7\n",
        "\n",
        "x = np.random.uniform(0, d/2, N)\n",
        "theta = np.random.uniform(0, np.pi/2, N)\n",
        "crossings = (l / 2) * np.sin(theta) >= x\n",
        "cum_crossings = np.cumsum(crossings)\n",
        "valid_trials = np.arange(1, N + 1)\n",
        "pi_estimates = 2 * valid_trials / (d * cum_crossings)\n",
        "pi_estimates[~np.isfinite(pi_estimates)] = 0\n",
        "plt.plot(valid_trials, pi_estimates, label='Estimated pi')\n",
        "plt.axhline(y=np.pi, color='r', label='True pi')\n",
        "plt.xscale('log')\n",
        "plt.legend()\n",
        "plt.show()\n"
      ],
      "metadata": {
        "colab": {
          "base_uri": "https://localhost:8080/",
          "height": 434
        },
        "id": "Qim6dh-gYYEu",
        "outputId": "e1801346-6899-4387-990a-87d65607b5f5"
      },
      "execution_count": null,
      "outputs": [
        {
          "output_type": "display_data",
          "data": {
            "text/plain": [
              "<Figure size 640x480 with 1 Axes>"
            ],
            "image/png": "[encoded data removed]"
          },
          "metadata": {}
        }
      ]
    }
  ]
}